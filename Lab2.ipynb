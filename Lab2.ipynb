{
  "cells": [
    {
      "cell_type": "markdown",
      "metadata": {
        "id": "view-in-github",
        "colab_type": "text"
      },
      "source": [
        "<a href=\"https://colab.research.google.com/github/Salarkhan-9/AI-Learing-Record/blob/main/Lab2.ipynb\" target=\"_parent\"><img src=\"https://colab.research.google.com/assets/colab-badge.svg\" alt=\"Open In Colab\"/></a>"
      ]
    },
    {
      "cell_type": "code",
      "execution_count": null,
      "metadata": {
        "colab": {
          "base_uri": "https://localhost:8080/",
          "height": 211
        },
        "id": "_u327YCBDnbU",
        "outputId": "a97a99c0-bf0e-4c92-e52f-93daa81a27b3"
      },
      "outputs": [
        {
          "name": "stdout",
          "output_type": "stream",
          "text": [
            "Hello World\n",
            "Salar Khan842\n",
            "<class 'bool'>\n",
            "<class 'int'>\n",
            "123\n",
            "<class 'float'>\n",
            "11.0\n",
            "<class 'float'>\n",
            "22.0\n"
          ]
        }
      ],
      "source": [
        "#Comments\n",
        "#print statment can be  execute with single qoutes also print('Hello World')\n",
        "\n",
        "print(\"Hello World\")\n",
        "\n",
        "# concatenation of two string\n",
        "x = 842\n",
        "y = \"Salar Khan\"\n",
        "print(y+ str(x))\n",
        "\n",
        "#type checking\n",
        "checkture = True\n",
        "print(type(checkture))\n",
        "\n",
        "#mention datatype --- not using default data types\n",
        "a= int(123)\n",
        "print(type(a))\n",
        "print(a)\n",
        "\n",
        "# delcaring variable with  _\n",
        "_b=float(11)\n",
        "print(type(_b))\n",
        "print(_b)\n",
        "\n",
        "# delcaring variable with  _\n",
        "_b23=float(22)\n",
        "print(type(_b23))\n",
        "print(_b23)\n",
        "\n",
        "\n",
        "#  We can't delcaring variable with  numbers,special charater  and keyword etc\n",
        "\n",
        "# 1a=\"test\"\n",
        "# print(1a)\n",
        "# print =\"keyword\"\n",
        "# print(print)\n"
      ]
    },
    {
      "cell_type": "code",
      "execution_count": null,
      "metadata": {
        "colab": {
          "base_uri": "https://localhost:8080/",
          "height": 211
        },
        "id": "gOPrxwMGN5Bl",
        "outputId": "0b177451-b0fd-42fe-b8cc-aa3a1ec80214"
      },
      "outputs": [
        {
          "name": "stdout",
          "output_type": "stream",
          "text": [
            "[1, 23, 45]\n",
            "['String1', 'String2']\n"
          ]
        }
      ],
      "source": [
        "#List of Same datatype\n",
        "\n",
        "multInt = [1, 23, 45]\n",
        "multStr = [\"String1\", \"String2\"]\n",
        "\n",
        "print(multInt)\n",
        "\n",
        "print(multStr)\n"
      ]
    },
    {
      "cell_type": "code",
      "execution_count": null,
      "metadata": {
        "id": "vChUb5e7TY2F",
        "outputId": "16e33bff-faf8-46c1-da83-6e7a9a0418f2"
      },
      "outputs": [
        {
          "name": "stdout",
          "output_type": "stream",
          "text": [
            "['Salar', 23, 7.8]\n"
          ]
        }
      ],
      "source": [
        "# list/array\n",
        "x=[\"Salar\" , 23 , 7.8 ]\n",
        "print(x)"
      ]
    },
    {
      "cell_type": "code",
      "execution_count": null,
      "metadata": {
        "id": "ZWziJFJZTY2G",
        "outputId": "d3aa6537-12f5-4d9d-996c-c47129bd3d65"
      },
      "outputs": [
        {
          "name": "stdout",
          "output_type": "stream",
          "text": [
            "Muhammad Salar Khan\n",
            "Salar Salar Salar \n",
            "\n",
            "Salar\n",
            "Salar\n",
            "Salar\n"
          ]
        }
      ],
      "source": [
        "#Multple Declaration and initializaton\n",
        "x,y,z=\"Muhammad\",\"Salar\",\"Khan\"\n",
        "print(x,y,z)\n",
        "\n",
        "a=b=c=\"Salar\"\n",
        "\n",
        "print(a,b,c ,\"\\n\")\n",
        "\n",
        "print(a)\n",
        "print(b)\n",
        "print(c)"
      ]
    },
    {
      "cell_type": "code",
      "execution_count": null,
      "metadata": {
        "id": "AfH6SExJTY2G",
        "outputId": "d92aacfd-6e2d-4f59-a382-495e462422b3"
      },
      "outputs": [
        {
          "name": "stdout",
          "output_type": "stream",
          "text": [
            "{'Country': 'Pakistan', 'Religion': 'Islam', 'Subject': 'AI'} \n",
            "\n",
            "Game development \n",
            "\n",
            "3\n"
          ]
        }
      ],
      "source": [
        "thisdict =\t{\n",
        "  \"Country\": \"Pakistan\",\n",
        "  \"Religion\": \"Islam\",\n",
        "  \"Subject\": \"AI\"\n",
        "}\n",
        "\n",
        "print(thisdict,\"\\n\")\n",
        "thisdict[\"Subject\"]=\"Game development\"\n",
        "print(thisdict[\"Subject\"],\"\\n\")\n",
        "\n",
        "print(len(thisdict))"
      ]
    }
  ],
  "metadata": {
    "colab": {
      "provenance": [],
      "toc_visible": true,
      "include_colab_link": true
    },
    "kernelspec": {
      "display_name": "Python 3",
      "name": "python3"
    },
    "language_info": {
      "codemirror_mode": {
        "name": "ipython",
        "version": 3
      },
      "file_extension": ".py",
      "mimetype": "text/x-python",
      "name": "python",
      "nbconvert_exporter": "python",
      "pygments_lexer": "ipython3",
      "version": "3.9.12"
    }
  },
  "nbformat": 4,
  "nbformat_minor": 0
}