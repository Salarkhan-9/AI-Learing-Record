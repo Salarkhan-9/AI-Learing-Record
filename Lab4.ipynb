{
  "nbformat": 4,
  "nbformat_minor": 0,
  "metadata": {
    "colab": {
      "provenance": [],
      "authorship_tag": "ABX9TyO5kv6HyZr1m9bcQqUM2E7q",
      "include_colab_link": true
    },
    "kernelspec": {
      "name": "python3",
      "display_name": "Python 3"
    },
    "language_info": {
      "name": "python"
    }
  },
  "cells": [
    {
      "cell_type": "markdown",
      "metadata": {
        "id": "view-in-github",
        "colab_type": "text"
      },
      "source": [
        "<a href=\"https://colab.research.google.com/github/Salarkhan-9/AI-Learing-Record/blob/main/Lab4.ipynb\" target=\"_parent\"><img src=\"https://colab.research.google.com/assets/colab-badge.svg\" alt=\"Open In Colab\"/></a>"
      ]
    },
    {
      "cell_type": "code",
      "source": [
        "#dictionary\n",
        "\n",
        "thisdict =\t{\n",
        "  \"Country\": \"Pakistan\",\n",
        "  \"Religion\": \"Islam\",\n",
        "  \"Subject\": \"AI\"\n",
        "}\n",
        "\n",
        "print(thisdict)\n",
        "thisdict[\"Subject\"]=\"Game development\"\n",
        "thisdict[\"flagColor\"] = \"Green and White\"\n",
        "print(thisdict[\"Subject\"])\n",
        "print(thisdict)\n",
        "print(len(thisdict))\n",
        "print(type(thisdict))\n",
        "\n",
        "print('\\n')\n",
        "print('\\n')\n",
        "#List\n",
        "\n",
        "list1 =[\"apple\", \"banana\", \"cherry\", \"graphes\", \"cherry\"]\n",
        "list1.append(\"orange\")\n",
        "print(list1)\n",
        "list1.pop(2)\n",
        "print(list1)\n",
        "list1.insert(2, \"Mango\")\n",
        "print(list1)\n",
        "print(type(list1))\n",
        "print(len(list1))\n",
        "\n",
        "\n",
        "print('\\n')\n",
        "print('\\n')\n",
        "#Tuple\n",
        "\n",
        "tuple1 = (\"Salar\", 23, True, \"male\")\n",
        "print(tuple1)\n",
        "print(type(tuple1))\n",
        "print(len(tuple1))\n",
        "\n",
        "del tuple1 #tuple will be deleted and no,longer in exist.\n",
        "# print(tuple1)\n",
        "\n",
        "print('\\n')\n",
        "print('\\n')\n",
        "# Set\n",
        "\n",
        "thisset = set({\"UK\", \"France\", \"China\"})\n",
        "thisset.add(\"Pakistan\")\n",
        "print(thisset)\n",
        "print(len(thisset))\n",
        "print(type(thisset))\n"
      ],
      "metadata": {
        "colab": {
          "base_uri": "https://localhost:8080/"
        },
        "id": "fCdE3vfASBee",
        "outputId": "94791b9b-b0c7-40b0-fa77-cfd2f2bfbb03"
      },
      "execution_count": 25,
      "outputs": [
        {
          "output_type": "stream",
          "name": "stdout",
          "text": [
            "{'Country': 'Pakistan', 'Religion': 'Islam', 'Subject': 'AI'}\n",
            "Game development\n",
            "{'Country': 'Pakistan', 'Religion': 'Islam', 'Subject': 'Game development', 'flagColor': 'Green and White'}\n",
            "4\n",
            "<class 'dict'>\n",
            "\n",
            "\n",
            "\n",
            "\n",
            "['apple', 'banana', 'cherry', 'graphes', 'cherry', 'orange']\n",
            "['apple', 'banana', 'graphes', 'cherry', 'orange']\n",
            "['apple', 'banana', 'Mango', 'graphes', 'cherry', 'orange']\n",
            "<class 'list'>\n",
            "6\n",
            "\n",
            "\n",
            "\n",
            "\n",
            "('Salar', 23, True, 'male')\n",
            "<class 'tuple'>\n",
            "4\n",
            "\n",
            "\n",
            "\n",
            "\n",
            "{'Pakistan', 'China', 'UK', 'France'}\n",
            "4\n",
            "<class 'set'>\n"
          ]
        }
      ]
    }
  ]
}