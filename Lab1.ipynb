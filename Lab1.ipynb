{
  "nbformat": 4,
  "nbformat_minor": 0,
  "metadata": {
    "colab": {
      "provenance": [],
      "authorship_tag": "ABX9TyOq9mMJhaJyQT+p7EtJ0IBi",
      "include_colab_link": true
    },
    "kernelspec": {
      "name": "python3",
      "display_name": "Python 3"
    },
    "language_info": {
      "name": "python"
    }
  },
  "cells": [
    {
      "cell_type": "markdown",
      "metadata": {
        "id": "view-in-github",
        "colab_type": "text"
      },
      "source": [
        "<a href=\"https://colab.research.google.com/github/Salarkhan-9/AI-Learing-Record/blob/main/Lab1.ipynb\" target=\"_parent\"><img src=\"https://colab.research.google.com/assets/colab-badge.svg\" alt=\"Open In Colab\"/></a>"
      ]
    },
    {
      "cell_type": "markdown",
      "source": [
        "### First AI Program"
      ],
      "metadata": {
        "id": "TfjQ1EKMOXN0"
      }
    },
    {
      "cell_type": "code",
      "source": [
        "print(\"Hello AI\")"
      ],
      "metadata": {
        "id": "leZpbQT5AvWK"
      },
      "execution_count": null,
      "outputs": []
    },
    {
      "cell_type": "code",
      "execution_count": null,
      "metadata": {
        "colab": {
          "base_uri": "https://localhost:8080/"
        },
        "id": "cttixk7iMKfT",
        "outputId": "a87dff9e-fbf5-4b58-c931-83736881dab6"
      },
      "outputs": [
        {
          "output_type": "stream",
          "name": "stdout",
          "text": [
            "Salar\n",
            "18\n"
          ]
        }
      ],
      "source": [
        "print(\"Salar\")\n",
        "a=10\n",
        "b=8\n",
        "print(a+b)"
      ]
    },
    {
      "cell_type": "code",
      "source": [
        "print(\"Welcome\")\n",
        "print(\"To AI \")\n",
        "print(\"Lab 1 \")"
      ],
      "metadata": {
        "colab": {
          "base_uri": "https://localhost:8080/"
        },
        "id": "pDBOAGknQHqW",
        "outputId": "02df0a93-894f-4b12-e9fe-c25b087af6d9"
      },
      "execution_count": null,
      "outputs": [
        {
          "output_type": "stream",
          "name": "stdout",
          "text": [
            "To AI \n"
          ]
        }
      ]
    },
    {
      "cell_type": "code",
      "source": [
        "a=int(input(\"enter first number :\"))\n",
        "b=int(input(\"enter  second number :\"))\n",
        "print(a+b)"
      ],
      "metadata": {
        "id": "0QEpHBkuAshq"
      },
      "execution_count": null,
      "outputs": []
    },
    {
      "cell_type": "markdown",
      "source": [],
      "metadata": {
        "id": "yfqvq_6gPOxK"
      }
    }
  ]
}