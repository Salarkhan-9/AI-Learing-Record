{
  "cells": [
    {
      "cell_type": "markdown",
      "metadata": {
        "id": "view-in-github",
        "colab_type": "text"
      },
      "source": [
        "<a href=\"https://colab.research.google.com/github/Salarkhan-9/AI-Learing-Record/blob/main/Lab2.ipynb\" target=\"_parent\"><img src=\"https://colab.research.google.com/assets/colab-badge.svg\" alt=\"Open In Colab\"/></a>"
      ]
    },
    {
      "cell_type": "code",
      "execution_count": 45,
      "metadata": {
        "colab": {
          "base_uri": "https://localhost:8080/",
          "height": 211
        },
        "id": "_u327YCBDnbU",
        "outputId": "3432ab31-16e8-4aea-9ac1-310fb1b85cca"
      },
      "outputs": [
        {
          "output_type": "error",
          "ename": "TypeError",
          "evalue": "'str' object is not callable",
          "traceback": [
            "\u001b[0;31m---------------------------------------------------------------------------\u001b[0m",
            "\u001b[0;31mTypeError\u001b[0m                                 Traceback (most recent call last)",
            "\u001b[0;32m<ipython-input-45-11f7f468f925>\u001b[0m in \u001b[0;36m<cell line: 4>\u001b[0;34m()\u001b[0m\n\u001b[1;32m      2\u001b[0m \u001b[0;31m#print statment can be  execute with single qoutes also print('Hello World')\u001b[0m\u001b[0;34m\u001b[0m\u001b[0;34m\u001b[0m\u001b[0m\n\u001b[1;32m      3\u001b[0m \u001b[0;34m\u001b[0m\u001b[0m\n\u001b[0;32m----> 4\u001b[0;31m \u001b[0mprint\u001b[0m\u001b[0;34m(\u001b[0m\u001b[0;34m\"Hello World\"\u001b[0m\u001b[0;34m)\u001b[0m\u001b[0;34m\u001b[0m\u001b[0;34m\u001b[0m\u001b[0m\n\u001b[0m\u001b[1;32m      5\u001b[0m \u001b[0;34m\u001b[0m\u001b[0m\n\u001b[1;32m      6\u001b[0m \u001b[0;31m# concatenation of two string\u001b[0m\u001b[0;34m\u001b[0m\u001b[0;34m\u001b[0m\u001b[0m\n",
            "\u001b[0;31mTypeError\u001b[0m: 'str' object is not callable"
          ]
        }
      ],
      "source": [
        "#Comments\n",
        "#print statment can be  execute with single qoutes also print('Hello World')\n",
        "\n",
        "print(\"Hello World\")\n",
        "\n",
        "# concatenation of two string\n",
        "x = 842\n",
        "y = \"Salar Khan\"\n",
        "print(y+ str(x))\n",
        "\n",
        "#type checking\n",
        "checkture = True\n",
        "print(type(checkture))\n",
        "\n",
        "#mention datatype --- not using default data types\n",
        "a= int(123)\n",
        "print(type(a))\n",
        "print(a)\n",
        "\n",
        "# delcaring variable with  _\n",
        "_b=float(11)\n",
        "print(type(_b))\n",
        "print(_b)\n",
        "\n",
        "# delcaring variable with  _\n",
        "_b23=float(22)\n",
        "print(type(_b23))\n",
        "print(_b23)\n",
        "\n",
        "\n",
        "#  We can't delcaring variable with  numbers,special charater  and keyword etc\n",
        "\n",
        "# 1a=\"test\"\n",
        "# print(1a)\n",
        "# print =\"keyword\"\n",
        "# print(print)\n"
      ]
    },
    {
      "cell_type": "code",
      "execution_count": null,
      "metadata": {
        "colab": {
          "base_uri": "https://localhost:8080/",
          "height": 211
        },
        "id": "gOPrxwMGN5Bl",
        "outputId": "0b177451-b0fd-42fe-b8cc-aa3a1ec80214"
      },
      "outputs": [
        {
          "name": "stdout",
          "output_type": "stream",
          "text": [
            "[1, 23, 45]\n",
            "['String1', 'String2']\n"
          ]
        }
      ],
      "source": [
        "#List of Same datatype\n",
        "\n",
        "multInt = [1, 23, 45]\n",
        "multStr = [\"String1\", \"String2\"]\n",
        "\n",
        "print(multInt)\n",
        "\n",
        "print(multStr)\n"
      ]
    },
    {
      "cell_type": "code",
      "execution_count": null,
      "metadata": {
        "id": "rdWkCXbrU_QU",
        "outputId": "891be830-9e15-4e94-ffde-8cdd7cd80f54"
      },
      "outputs": [
        {
          "name": "stdout",
          "output_type": "stream",
          "text": [
            "['Salar', 23, 7.8]\n"
          ]
        }
      ],
      "source": [
        "# list/array\n",
        "x=[\"Salar\" , 23 , 7.8 ]\n",
        "print(x)"
      ]
    },
    {
      "cell_type": "code",
      "execution_count": null,
      "metadata": {
        "id": "0kZVOYFdU_QU",
        "outputId": "979465b5-0bf5-41c4-d0da-a0289ba13db1"
      },
      "outputs": [
        {
          "name": "stdout",
          "output_type": "stream",
          "text": [
            "Muhammad Salar Khan\n",
            "Salar Salar Salar \n",
            "\n",
            "Salar\n",
            "Salar\n",
            "Salar\n"
          ]
        }
      ],
      "source": [
        "#Multple Declaration and initializaton\n",
        "x,y,z=\"Muhammad\",\"Salar\",\"Khan\"\n",
        "print(x,y,z)\n",
        "\n",
        "a=b=c=\"Salar\"\n",
        "\n",
        "print(a,b,c ,\"\\n\")\n",
        "\n",
        "print(a)\n",
        "print(b)\n",
        "print(c)"
      ]
    },
    {
      "cell_type": "code",
      "execution_count": null,
      "metadata": {
        "id": "rGUjNOhUU_QU",
        "outputId": "81dcf097-9ea4-40c9-d198-fb227d364e37"
      },
      "outputs": [
        {
          "name": "stdout",
          "output_type": "stream",
          "text": [
            "{'Country': 'Pakistan', 'Religion': 'Islam', 'Subject': 'AI'} \n",
            "\n",
            "Game development \n",
            "\n",
            "3\n"
          ]
        }
      ],
      "source": [
        "thisdict =\t{\n",
        "  \"Country\": \"Pakistan\",\n",
        "  \"Religion\": \"Islam\",\n",
        "  \"Subject\": \"AI\"\n",
        "}\n",
        "\n",
        "print(thisdict,\"\\n\")\n",
        "thisdict[\"Subject\"]=\"Game development\"\n",
        "print(thisdict[\"Subject\"],\"\\n\")\n",
        "\n",
        "print(len(thisdict))"
      ]
    },
    {
      "cell_type": "code",
      "execution_count": null,
      "metadata": {
        "id": "NSCvDkz7U_QV",
        "outputId": "b01c0065-acc2-42ca-b1ea-2954e74b31b6"
      },
      "outputs": [
        {
          "name": "stdout",
          "output_type": "stream",
          "text": [
            "My Function\n"
          ]
        }
      ],
      "source": [
        "# Creating Function\n",
        "\n",
        "def myfunction():\n",
        "    print(\"My Function\")\n",
        "\n",
        "myfunction() #calling funciton"
      ]
    }
  ],
  "metadata": {
    "colab": {
      "provenance": [],
      "toc_visible": true,
      "include_colab_link": true
    },
    "kernelspec": {
      "display_name": "Python 3",
      "name": "python3"
    },
    "language_info": {
      "codemirror_mode": {
        "name": "ipython",
        "version": 3
      },
      "file_extension": ".py",
      "mimetype": "text/x-python",
      "name": "python",
      "nbconvert_exporter": "python",
      "pygments_lexer": "ipython3",
      "version": "3.9.12"
    }
  },
  "nbformat": 4,
  "nbformat_minor": 0
}