{
  "nbformat": 4,
  "nbformat_minor": 0,
  "metadata": {
    "colab": {
      "provenance": [],
      "toc_visible": true,
      "authorship_tag": "ABX9TyNmqa7WgrbubBf+v3t4Stbe",
      "include_colab_link": true
    },
    "kernelspec": {
      "name": "python3",
      "display_name": "Python 3"
    },
    "language_info": {
      "name": "python"
    }
  },
  "cells": [
    {
      "cell_type": "markdown",
      "metadata": {
        "id": "view-in-github",
        "colab_type": "text"
      },
      "source": [
        "<a href=\"https://colab.research.google.com/github/Salarkhan-9/AI-Learing-Record/blob/main/Lab2.ipynb\" target=\"_parent\"><img src=\"https://colab.research.google.com/assets/colab-badge.svg\" alt=\"Open In Colab\"/></a>"
      ]
    },
    {
      "cell_type": "code",
      "execution_count": 12,
      "metadata": {
        "colab": {
          "base_uri": "https://localhost:8080/"
        },
        "id": "_u327YCBDnbU",
        "outputId": "a8fe913a-e6a8-418a-f2c7-3877589c4ac9"
      },
      "outputs": [
        {
          "output_type": "stream",
          "name": "stdout",
          "text": [
            "Hello World\n",
            "Salar Khan842\n"
          ]
        }
      ],
      "source": [
        "#Comments\n",
        "#print statment can be  execute with single qoutes also print('Hello World');\n",
        "\n",
        "print('Hello World')\n",
        "\n",
        "# concatenation of two string\n",
        "\n",
        "x = 842\n",
        "y = \"Salar Khan\"\n",
        "print(y+ str(x))"
      ]
    }
  ]
}